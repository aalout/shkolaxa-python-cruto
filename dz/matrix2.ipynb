{
 "cells": [
  {
   "cell_type": "code",
   "execution_count": 40,
   "metadata": {},
   "outputs": [],
   "source": [
    "class Matrix:\n",
    "    #классический init, чтобы вводить)\n",
    "    def __init__(self, matrix):\n",
    "        self.matrix = matrix\n",
    "    #Здесь операция сложения\n",
    "    def __add__(self, other):\n",
    "        #isinstance сравнивает обьект и класс (соответствие обьекта с классом), если вводим не матрицу, то ничего не получится\n",
    "        if isinstance(other, Matrix):\n",
    "            #проверка размеров матрицы, если len одной не равен другой, то код выдаст ошибку\n",
    "            if len(self.matrix) != len(other.matrix):\n",
    "                raise ValueError(\"не тот размер\")\n",
    "            #переменная, которую мы будем возвращать (переменная с матрицей)\n",
    "            result = []\n",
    "            #цикл по переменной i, которая будет пробегать значения от 0 до длины (количества строк) матрицы self.matrix\n",
    "            for i in range(len(self.matrix)):\n",
    "                #пустой список, где будут элементы сложения текущей строки self и other\n",
    "                row = []\n",
    "                #еще цикл, тоже от 0 до длины первой строки матрицы self\n",
    "                for j in range(len(self.matrix[0])):\n",
    "                    #сложение элементов матрицы, append добавляет в конец списка row и по итогу получается, что row содержит суммы обеих матриц\n",
    "                    row.append(self.matrix[i][j] + other.matrix[i][j])\n",
    "                #ну и result, который будет получаться на выводе будет выводить row (опять же добавляем в конец списка result список row с помощью .append)\n",
    "                result.append(row)\n",
    "                \n",
    "            return Matrix(result)\n",
    "    \n",
    "    #тут ctrl c + ctrl v со сложения, но с минусом\n",
    "    def __sub__(self, other):\n",
    "        if isinstance(other, Matrix):\n",
    "            if len(self.matrix) != len(other.matrix):\n",
    "                raise ValueError(\"не тот размер\")\n",
    "            \n",
    "            result = []\n",
    "            for i in range(len(self.matrix)):\n",
    "                row = []\n",
    "                for j in range(len(self.matrix[0])):\n",
    "                    row.append(self.matrix[i][j] - other.matrix[i][j])\n",
    "                result.append(row)\n",
    "                \n",
    "            return Matrix(result)\n",
    "    \n",
    "    def __mul__(self, other):\n",
    "        # тут чуть-чуть другая проверка, т.к. для умножения другие требования (количество столбцов первой матрицы должно быть равно количеству строк второй матрицы)\n",
    "        if isinstance(other, Matrix):\n",
    "            if len(self.matrix[0]) != len(other.matrix):\n",
    "                raise ValueError(\"не тот размер\")\n",
    "            #здесь будут храниться результаты умножения матриц\n",
    "            result = []\n",
    "            #для каждой строки создается пустой список row\n",
    "            for i in range(len(self.matrix)):\n",
    "                row = []\n",
    "                #тут будет вычисление элемента результирующей матрицы s\n",
    "                for j in range(len(other.matrix[0])):\n",
    "                    s = 0\n",
    "                    #перемножебние и добавление к переменной s\n",
    "                    for k in range(len(other.matrix)):\n",
    "                        s += self.matrix[i][k] * other.matrix[k][j]\n",
    "                    #c аппендами уже пояснял в сложении\n",
    "                    row.append(s)\n",
    "                result.append(row)\n",
    "                \n",
    "            return Matrix(result)\n",
    "    #ну тут уже все, что было выше, проверяем, что ввели int или float, снова пустой список result, снова цикл, снова пустой список, в который мы добавялем значения деления и выводим резалт\n",
    "    def __truediv__(self, other):\n",
    "        if isinstance(other, (int, float)):\n",
    "            result = []\n",
    "            for i in range(len(self.matrix)):\n",
    "                row = []\n",
    "                for j in range(len(self.matrix[0])):\n",
    "                    row.append(self.matrix[i][j] / other)\n",
    "                result.append(row)\n",
    "                \n",
    "            return Matrix(result)\n",
    "    #sssmth\n",
    "    def __matmul__(self, other):\n",
    "        if isinstance(other, Matrix):\n",
    "            if len(self.matrix[0]) != len(other.matrix):\n",
    "                raise ValueError(\"Количество столбцов первой матрицы должно быть равно количеству строк второй матрицы\")\n",
    "            \n",
    "            result = []\n",
    "            for i in range(len(self.matrix)):\n",
    "                row = []\n",
    "                for j in range(len(other.matrix[0])):\n",
    "                    s = 0\n",
    "                    for k in range(len(other.matrix)):\n",
    "                        s += self.matrix[i][k] * other.matrix[k][j]\n",
    "                    row.append(s)\n",
    "                result.append(row)\n",
    "                \n",
    "            return Matrix(result)\n",
    "    \n",
    "    def T(self):\n",
    "        result = []\n",
    "        for j in range(len(self.matrix[0])):\n",
    "            row = []\n",
    "            for i in range(len(self.matrix)):\n",
    "                row.append(self.matrix[i][j])\n",
    "            result.append(row)\n",
    "            \n",
    "        return Matrix(result)\n",
    "    \n",
    "    def __str__(self):\n",
    "        return str(self.matrix)"
   ]
  },
  {
   "cell_type": "code",
   "execution_count": 41,
   "metadata": {},
   "outputs": [
    {
     "name": "stdout",
     "output_type": "stream",
     "text": [
      "[[6, 8], [10, 12]]\n"
     ]
    }
   ],
   "source": [
    "matrix1 = Matrix([[1, 2], [3, 4]])\n",
    "matrix2 = Matrix([[5, 6], [7, 8]])\n",
    "\n",
    "print(matrix1 + matrix2)"
   ]
  },
  {
   "cell_type": "code",
   "execution_count": 42,
   "metadata": {},
   "outputs": [
    {
     "name": "stdout",
     "output_type": "stream",
     "text": [
      "[[-4, -4], [-4, -4]]\n"
     ]
    }
   ],
   "source": [
    "print(matrix1 - matrix2)"
   ]
  },
  {
   "cell_type": "code",
   "execution_count": 43,
   "metadata": {},
   "outputs": [
    {
     "name": "stdout",
     "output_type": "stream",
     "text": [
      "Note: you may need to restart the kernel to use updated packages.\n"
     ]
    },
    {
     "name": "stderr",
     "output_type": "stream",
     "text": [
      "\n",
      "[notice] A new release of pip is available: 23.0.1 -> 23.2.1\n",
      "[notice] To update, run: C:\\Users\\Илья\\AppData\\Local\\Microsoft\\WindowsApps\\PythonSoftwareFoundation.Python.3.11_qbz5n2kfra8p0\\python.exe -m pip install --upgrade pip\n"
     ]
    },
    {
     "name": "stdout",
     "output_type": "stream",
     "text": [
      "Note: you may need to restart the kernel to use updated packages.\n"
     ]
    },
    {
     "name": "stderr",
     "output_type": "stream",
     "text": [
      "\n",
      "[notice] A new release of pip is available: 23.0.1 -> 23.2.1\n",
      "[notice] To update, run: C:\\Users\\Илья\\AppData\\Local\\Microsoft\\WindowsApps\\PythonSoftwareFoundation.Python.3.11_qbz5n2kfra8p0\\python.exe -m pip install --upgrade pip\n"
     ]
    }
   ],
   "source": [
    "%pip install -q ipytest pytest\n",
    "%pip install -Uq numpy\n",
    "\n",
    "import ipytest\n",
    "import pytest\n",
    "import numpy as np"
   ]
  },
  {
   "cell_type": "code",
   "execution_count": 44,
   "metadata": {},
   "outputs": [],
   "source": [
    "@pytest.mark.parametrize(\"matrix1,matrix2\", [[matrix1, matrix2]])\n",
    "def test_matrix_add_matrix(matrix1: Matrix, matrix2: Matrix):\n",
    "    assert (\n",
    "        (np.array((matrix1 + matrix2).matrix) == (np.array(matrix1.matrix) + np.array(matrix2.matrix))).all()\n",
    "    ), 'add section with matrices is not working right'\n",
    "\n",
    "@pytest.mark.parametrize(\"matrix1,number\", [[matrix1, 13.2]])\n",
    "def test_matrix_add_number(matrix1: Matrix, number: int | float):\n",
    "    assert (\n",
    "        (np.array((matrix1 + number).matrix) == np.array(matrix1.matrix) + number).all()\n",
    "    ), 'add section with matrix and number is not working right'\n",
    "\n",
    "@pytest.mark.parametrize(\"matrix1,matrix2\", [[matrix1, matrix2]])\n",
    "def test_matrix_sub_matrix(matrix1: Matrix, matrix2: Matrix):\n",
    "    assert (\n",
    "        (np.array((matrix1 - matrix2).matrix) == np.array(matrix1.matrix) - np.array(matrix2.matrix)).all()\n",
    "    ), 'sub section with matrices is not working right'\n",
    "\n",
    "@pytest.mark.parametrize(\"matrix1,number\", [[matrix1, 12.2]])    \n",
    "def test_matrix_sub_number(matrix1: Matrix, number: int | float):\n",
    "    assert (\n",
    "        (np.array((matrix1 - number).matrix) == np.array(matrix1.matrix) - number).all()\n",
    "    ), 'sub section with matrix and number is not working right'\n",
    "\n",
    "@pytest.mark.parametrize(\"matrix1\", [matrix1])    \n",
    "def test_matrix_transpose(matrix1: Matrix):\n",
    "    assert (\n",
    "        (np.array(matrix1.T().matrix) == np.array(matrix1.matrix).T).all()\n",
    "    ), 'transpose section is not working right'\n",
    "\n",
    "@pytest.mark.parametrize(\"matrix1,matrix2\", [[matrix1, matrix2]])\n",
    "def test_matrix_mul_matrix(matrix1: Matrix, matrix2: Matrix):\n",
    "    assert (\n",
    "        (np.array((matrix1 * matrix2).matrix) == np.array(matrix1.matrix) * np.array(matrix2.matrix)).all()\n",
    "    ), 'mul section with matrices is not working right'\n",
    "\n",
    "@pytest.mark.parametrize(\"matrix1,number\", [[matrix1, 13]])\n",
    "def test_matrix_mul_number(matrix1: Matrix, number: int | float):\n",
    "    assert (\n",
    "        (np.array((matrix1 * number).matrix) == np.array(matrix1.matrix) * number).all()\n",
    "    ), 'mul section with matrix and number is not working right'\n",
    "\n",
    "@pytest.mark.parametrize(\"matrix1,matrix2\", [[matrix1, matrix2]])    \n",
    "def test_matrix_div_matrix(matrix1: Matrix, matrix2: Matrix):\n",
    "    assert (\n",
    "        (np.array((matrix1 / matrix2).matrix) == np.array(matrix1.matrix) / np.array(matrix2.matrix)).all()\n",
    "    ), 'div section with matrices is not working right'\n",
    "\n",
    "@pytest.mark.parametrize(\"matrix1,number\", [[matrix1, 2]])    \n",
    "def test_matrix_div_number(matrix1: Matrix, number: int | float):\n",
    "    assert (\n",
    "        (np.array((matrix1 / number).matrix) == np.array(matrix1.matrix) / number).all()\n",
    "    ), 'div section with matrix and number is not working right'\n",
    "\n",
    "@pytest.mark.parametrize(\"matrix1,matrix2\", [[matrix1, matrix2.T()]])    \n",
    "def test_matrix_matmul_matrix(matrix1: Matrix, matrix2: Matrix):\n",
    "    assert(\n",
    "        (np.array((matrix1 @ matrix2).matrix) == np.array(matrix1.matrix) @ np.array(matrix2.matrix)).all()\n",
    "    ), 'matmul section is not working right, and don\\'t forget about T() if needed'"
   ]
  }
 ],
 "metadata": {
  "kernelspec": {
   "display_name": "Python 3",
   "language": "python",
   "name": "python3"
  },
  "language_info": {
   "codemirror_mode": {
    "name": "ipython",
    "version": 3
   },
   "file_extension": ".py",
   "mimetype": "text/x-python",
   "name": "python",
   "nbconvert_exporter": "python",
   "pygments_lexer": "ipython3",
   "version": "3.11.5"
  },
  "orig_nbformat": 4
 },
 "nbformat": 4,
 "nbformat_minor": 2
}

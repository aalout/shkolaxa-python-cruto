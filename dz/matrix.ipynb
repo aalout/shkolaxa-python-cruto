{
 "cells": [
  {
   "cell_type": "code",
   "execution_count": 25,
   "metadata": {},
   "outputs": [
    {
     "name": "stdout",
     "output_type": "stream",
     "text": [
      "Note: you may need to restart the kernel to use updated packages.\n"
     ]
    },
    {
     "name": "stderr",
     "output_type": "stream",
     "text": [
      "\n",
      "[notice] A new release of pip is available: 23.0.1 -> 23.2.1\n",
      "[notice] To update, run: C:\\Users\\Илья\\AppData\\Local\\Microsoft\\WindowsApps\\PythonSoftwareFoundation.Python.3.11_qbz5n2kfra8p0\\python.exe -m pip install --upgrade pip\n"
     ]
    }
   ],
   "source": [
    "%pip install -Uq numpy\n",
    "import numpy as np"
   ]
  },
  {
   "cell_type": "code",
   "execution_count": 26,
   "metadata": {},
   "outputs": [],
   "source": [
    "class BaseMatrix:\n",
    "    pass\n",
    "\n",
    "\n",
    "class Matrix(BaseMatrix):\n",
    "    def __init__(\n",
    "        self,\n",
    "        matrix\n",
    "    ): \n",
    "        self.matrix = matrix    \n",
    "    \n",
    "    def __len__(self):\n",
    "        return len(self.matrix)\n",
    "\n",
    "    def dimensions(self):\n",
    "        rows = len(self.matrix)\n",
    "        columns = len(self.matrix[0]) if rows > 0 else 0\n",
    "        return rows, columns\n",
    "\n",
    "    def dimensions_equals(self, other_matrix):\n",
    "        rows, columns = self.dimensions()\n",
    "        other_rows, other_columns = other_matrix.dimensions()\n",
    "        return rows == other_rows, columns == other_columns\n",
    "\n",
    "    def T(self ):\n",
    "        rows = len(self)\n",
    "        columns = len(self.matrix[0]) if rows > 0 else 0\n",
    "        t = []\n",
    "        for s in range(columns):\n",
    "            row = []\n",
    "            for i in range(rows):\n",
    "                row.append(self.matrix[i][s])\n",
    "            t.append(row)\n",
    "        return Matrix(t)\n",
    "\n",
    "    def __add__(self, other_matrix):\n",
    "        if not self.dimensions_equals(other_matrix):\n",
    "            raise ValueError('err')\n",
    "        p = []\n",
    "        for i in range(len(self.matrix)):\n",
    "            row = []\n",
    "            for s in range(len(self.matrix[i])):\n",
    "                row.append(self.matrix[i][s] + other_matrix.matrix[i][s])\n",
    "            p.append(row)\n",
    "        return Matrix(p)\n",
    "\n",
    "    def __sub__(self, other_matrix):\n",
    "        if not self.dimensions_equals(other_matrix):\n",
    "            raise ValueError(\"err\")\n",
    "        m = []\n",
    "        for i in range(len(self.matrix)):\n",
    "            row = []\n",
    "            for j in range(len(self.matrix[i])):\n",
    "                row.append(self.matrix[i][j] - other_matrix.matrix[i][j])\n",
    "            m.append(row)\n",
    "        return Matrix(m)\n",
    "\n",
    "    def __mul__(self, other_matrix):\n",
    "        rows, columns = self.dimensions()\n",
    "        other_rows, other_columns = other_matrix.dimensions()\n",
    "        if columns != other_rows:\n",
    "            raise ValueError(\"err\")\n",
    "        k = []\n",
    "        for i in range(rows):\n",
    "            row = []\n",
    "            for s in range(other_columns):\n",
    "                element = 0\n",
    "                for f in range(columns):\n",
    "                    element += self.matrix[i][f] * other_matrix.matrix[f][s]\n",
    "                row.append(element)\n",
    "            k.append(row)\n",
    "        return Matrix(k)\n",
    " \n",
    "    def __truediv__(self, other_matrix):\n",
    "        if not self.dimensions_equals(other_matrix):\n",
    "            raise ValueError(\"err\")\n",
    "        d = []\n",
    "        for i in range(len(self.matrix)):\n",
    "            row = []\n",
    "            for s in range(len(self.matrix[i])):\n",
    "                row.append(self.matrix[i][s] / other_matrix.matrix[i][s])\n",
    "        d.append(row)\n",
    "        return Matrix(d)\n",
    "\n",
    "    def __matmul__(self, other_matrix):\n",
    "        rows, columns = self.dimensions()\n",
    "        other_rows, other_columns = other_matrix.dimensions()\n",
    "        if columns != other_rows:\n",
    "            raise ValueError(\"err\")\n",
    "        result = []\n",
    "        for i in range(rows):\n",
    "            row = []\n",
    "            for s in range(other_columns):\n",
    "                element = 0\n",
    "                for f in range(columns):\n",
    "                    element += self.matrix[i][f] * other_matrix.matrix[f][s]\n",
    "                row.append(element)\n",
    "            result.append(row)\n",
    "        return Matrix(result)\n",
    "\n",
    "    def __eq__(self, other_matrix):\n",
    "        if not self.dimensions_equals(other_matrix):\n",
    "            return False\n",
    "        for i in range(len(self)):\n",
    "            for s in range(len(self.matrix[i])):\n",
    "                if self.matrix[i][s] != other_matrix.matrix[i][s]:\n",
    "                    return False\n",
    "        return True\n",
    "\n",
    "    def __repr__(self):\n",
    "        return str(self.matrix)"
   ]
  },
  {
   "cell_type": "code",
   "execution_count": 27,
   "metadata": {},
   "outputs": [],
   "source": [
    "matrix1 = Matrix([[1, 2], [3, 4]])\n",
    "matrix2 = Matrix([[5, 6], [7, 8]])\n",
    "\n",
    "np_matrix1 = np.array(matrix1)\n",
    "np_matrix2 = np.array(matrix2)"
   ]
  },
  {
   "cell_type": "code",
   "execution_count": 28,
   "metadata": {},
   "outputs": [
    {
     "name": "stdout",
     "output_type": "stream",
     "text": [
      "[[6, 8], [10, 12]]\n",
      "[[6, 8], [10, 12]]\n"
     ]
    }
   ],
   "source": [
    "print(matrix1 + matrix2)\n",
    "print(np_matrix1 + np_matrix2)"
   ]
  },
  {
   "cell_type": "code",
   "execution_count": 29,
   "metadata": {},
   "outputs": [
    {
     "name": "stdout",
     "output_type": "stream",
     "text": [
      "[[-4, -4], [-4, -4]]\n",
      "[[-4, -4], [-4, -4]]\n"
     ]
    }
   ],
   "source": [
    "m = matrix1 - matrix2\n",
    "print(matrix1 - matrix2)\n",
    "print(np_matrix1 - np_matrix2)"
   ]
  },
  {
   "cell_type": "code",
   "execution_count": 30,
   "metadata": {},
   "outputs": [
    {
     "name": "stdout",
     "output_type": "stream",
     "text": [
      "[[19, 22], [43, 50]]\n",
      "[[19, 22], [43, 50]]\n"
     ]
    }
   ],
   "source": [
    "u = matrix1 * matrix2\n",
    "print(matrix1 * matrix2)\n",
    "print(np_matrix1 * np_matrix2)"
   ]
  },
  {
   "cell_type": "code",
   "execution_count": 31,
   "metadata": {},
   "outputs": [
    {
     "name": "stdout",
     "output_type": "stream",
     "text": [
      "[[0.42857142857142855, 0.5]]\n",
      "[[0.42857142857142855, 0.5]]\n"
     ]
    }
   ],
   "source": [
    "d = matrix1 / matrix2\n",
    "print(matrix1 / matrix2)\n",
    "print(np_matrix1 / np_matrix2)"
   ]
  },
  {
   "cell_type": "code",
   "execution_count": 32,
   "metadata": {},
   "outputs": [
    {
     "name": "stdout",
     "output_type": "stream",
     "text": [
      "[[1, 3], [2, 4]]\n"
     ]
    }
   ],
   "source": [
    "Tran = matrix1.T()\n",
    "print(Tran)"
   ]
  },
  {
   "cell_type": "code",
   "execution_count": 33,
   "metadata": {},
   "outputs": [
    {
     "name": "stdout",
     "output_type": "stream",
     "text": [
      "Матрицы не равны\n"
     ]
    }
   ],
   "source": [
    "if matrix1 == matrix2:\n",
    "    print(\"Матрицы равны\")\n",
    "else:\n",
    "    print(\"Матрицы не равны\")"
   ]
  },
  {
   "cell_type": "code",
   "execution_count": 34,
   "metadata": {},
   "outputs": [
    {
     "name": "stdout",
     "output_type": "stream",
     "text": [
      "[[19 22]\n",
      " [43 50]]\n",
      "[[19, 22], [43, 50]]\n"
     ]
    }
   ],
   "source": [
    "result = matrix1 @ matrix2\n",
    "np_matrix1 = np.array(matrix1.matrix)\n",
    "np_matrix2 = np.array(matrix2.matrix)\n",
    "print(np_matrix1 @ np_matrix2)\n",
    "print(result)"
   ]
  }
 ],
 "metadata": {
  "kernelspec": {
   "display_name": "Python 3",
   "language": "python",
   "name": "python3"
  },
  "language_info": {
   "codemirror_mode": {
    "name": "ipython",
    "version": 3
   },
   "file_extension": ".py",
   "mimetype": "text/x-python",
   "name": "python",
   "nbconvert_exporter": "python",
   "pygments_lexer": "ipython3",
   "version": "3.11.5"
  },
  "orig_nbformat": 4
 },
 "nbformat": 4,
 "nbformat_minor": 2
}

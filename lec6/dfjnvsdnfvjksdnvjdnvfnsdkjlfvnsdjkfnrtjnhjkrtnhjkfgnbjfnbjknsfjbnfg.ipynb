{
 "cells": [
  {
   "cell_type": "code",
   "execution_count": 18,
   "metadata": {},
   "outputs": [],
   "source": [
    "class Bird:\n",
    "     def init(\n",
    "         self,\n",
    "        wings_lenght: float =12.5,\n",
    "        legs_lenght: float = 3.5,\n",
    "        color: str = 'red'\n",
    "    ):\n",
    "         self.wings_lenght = wings_lenght\n",
    "         self.legs_lenght = legs_lenght\n",
    "         self.color = color\n",
    "         print ('Bird Initialaxed')\n",
    "def fly(self):\n",
    "    print('I fly')\n",
    "        \n",
    "def swim(self):\n",
    "    print('I swim')\n",
    "        \n",
    "def walk(self):\n",
    "    print('I walk')\n",
    "        \n",
    "def make_noise(self):\n",
    "    print('Tweet') \n",
    "    \n",
    "class Toys:\n",
    "    def init(\n",
    "        self,\n",
    "        toxic: bool = False,\n",
    "        size_cm3: float = 12.6,\n",
    "        color: str = 'purple',\n",
    "    ):  \n",
    "        def bounce (self):\n",
    "            print ('plum')\n",
    "        \n",
    "        def make_noize(self):\n",
    "            print ('asasasas')"
   ]
  },
  {
   "cell_type": "code",
   "execution_count": 19,
   "metadata": {},
   "outputs": [],
   "source": [
    "bird1 = Bird()"
   ]
  },
  {
   "cell_type": "code",
   "execution_count": 20,
   "metadata": {},
   "outputs": [
    {
     "ename": "AttributeError",
     "evalue": "'Toys' object has no attribute 'make_noize'",
     "output_type": "error",
     "traceback": [
      "\u001b[1;31m---------------------------------------------------------------------------\u001b[0m",
      "\u001b[1;31mAttributeError\u001b[0m                            Traceback (most recent call last)",
      "\u001b[1;32md:\\pypy\\lec6\\dfjnvsdnfvjksdnvjdnvfnsdkjlfvnsdjkfnrtjnhjkrtnhjkfgnbjfnbjknsfjbnfg.ipynb Cell 3\u001b[0m line \u001b[0;36m2\n\u001b[0;32m      <a href='vscode-notebook-cell:/d%3A/pypy/lec6/dfjnvsdnfvjksdnvjdnvfnsdkjlfvnsdjkfnrtjnhjkrtnhjkfgnbjfnbjknsfjbnfg.ipynb#W2sZmlsZQ%3D%3D?line=0'>1</a>\u001b[0m toy1 \u001b[39m=\u001b[39m Toys()\n\u001b[1;32m----> <a href='vscode-notebook-cell:/d%3A/pypy/lec6/dfjnvsdnfvjksdnvjdnvfnsdkjlfvnsdjkfnrtjnhjkrtnhjkfgnbjfnbjknsfjbnfg.ipynb#W2sZmlsZQ%3D%3D?line=1'>2</a>\u001b[0m toy1\u001b[39m.\u001b[39;49mmake_noize()\n",
      "\u001b[1;31mAttributeError\u001b[0m: 'Toys' object has no attribute 'make_noize'"
     ]
    }
   ],
   "source": [
    "toy1 = Toys()\n",
    "toy1.make_noize()"
   ]
  },
  {
   "cell_type": "code",
   "execution_count": null,
   "metadata": {},
   "outputs": [],
   "source": []
  }
 ],
 "metadata": {
  "kernelspec": {
   "display_name": "Python 3",
   "language": "python",
   "name": "python3"
  },
  "language_info": {
   "codemirror_mode": {
    "name": "ipython",
    "version": 3
   },
   "file_extension": ".py",
   "mimetype": "text/x-python",
   "name": "python",
   "nbconvert_exporter": "python",
   "pygments_lexer": "ipython3",
   "version": "3.11.5"
  },
  "orig_nbformat": 4
 },
 "nbformat": 4,
 "nbformat_minor": 2
}

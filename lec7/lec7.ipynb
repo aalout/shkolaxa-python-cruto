{
 "cells": [
  {
   "cell_type": "code",
   "execution_count": 8,
   "metadata": {},
   "outputs": [],
   "source": [
    "class MosquitosCloud:\n",
    "    damage_per_mosq: float = 1.7\n",
    "    mosq_in_cloud = 5\n",
    "    \n",
    "    damage = damage_per_mosq * mosq_in_cloud\n",
    "    \n",
    "    def __init__(self, damage_per_mosq: float = 1.7, mosq_in_cloud: int = 5):\n",
    "        if damage_per_mosq is not None and mosq_in_cloud is not None:\n",
    "            self.damage_per_mosq = damage_per_mosq\n",
    "            self.mosq_in_cloud = mosq_in_cloud\n",
    "            self.damage = damage_per_mosq * mosq_in_cloud\n",
    "        else:\n",
    "            raise ValueError(\"mldfsvnmdfnsvkdnfvjndljfvnjsdvfn\")\n",
    "        \n",
    "    def __add__(self: 'MosquitosCloud', other: 'MosquitosCloud'):\n",
    "        new_mosq_cloud = MosquitosCloud(\n",
    "            self,\n",
    "            damage_per_mosq = (self.damage_per_mosq + other.damage_per_mosq)/2,\n",
    "            mosq_in_cloud = self.mosq_in_cloud + other.mosq_in_cloud,\n",
    "        )\n",
    "        return new_mosq_cloud\n",
    "    \n",
    "    def __lt__(self, other):\n",
    "        "
   ]
  },
  {
   "cell_type": "code",
   "execution_count": 9,
   "metadata": {},
   "outputs": [],
   "source": [
    "mcloud1 = MosquitosCloud()"
   ]
  },
  {
   "cell_type": "code",
   "execution_count": 10,
   "metadata": {},
   "outputs": [
    {
     "data": {
      "text/plain": [
       "8.5"
      ]
     },
     "execution_count": 10,
     "metadata": {},
     "output_type": "execute_result"
    }
   ],
   "source": [
    "mcloud1.damage"
   ]
  },
  {
   "cell_type": "code",
   "execution_count": 11,
   "metadata": {},
   "outputs": [
    {
     "data": {
      "text/plain": [
       "120"
      ]
     },
     "execution_count": 11,
     "metadata": {},
     "output_type": "execute_result"
    }
   ],
   "source": [
    "mcloud2 = MosquitosCloud(\n",
    "    12,\n",
    "    10\n",
    ")\n",
    "mcloud2.damage"
   ]
  },
  {
   "cell_type": "code",
   "execution_count": 12,
   "metadata": {},
   "outputs": [
    {
     "ename": "TypeError",
     "evalue": "MosquitosCloud.__init__() got multiple values for argument 'damage_per_mosq'",
     "output_type": "error",
     "traceback": [
      "\u001b[1;31m---------------------------------------------------------------------------\u001b[0m",
      "\u001b[1;31mTypeError\u001b[0m                                 Traceback (most recent call last)",
      "\u001b[1;32md:\\pypy\\lec7\\lec7.ipynb Cell 5\u001b[0m line \u001b[0;36m1\n\u001b[1;32m----> <a href='vscode-notebook-cell:/d%3A/pypy/lec7/lec7.ipynb#W2sZmlsZQ%3D%3D?line=0'>1</a>\u001b[0m mcloud3 \u001b[39m=\u001b[39m mcloud1 \u001b[39m+\u001b[39;49m mcloud2\n\u001b[0;32m      <a href='vscode-notebook-cell:/d%3A/pypy/lec7/lec7.ipynb#W2sZmlsZQ%3D%3D?line=1'>2</a>\u001b[0m mcloud3\u001b[39m.\u001b[39mdamage\n",
      "\u001b[1;32md:\\pypy\\lec7\\lec7.ipynb Cell 5\u001b[0m line \u001b[0;36m1\n\u001b[0;32m     <a href='vscode-notebook-cell:/d%3A/pypy/lec7/lec7.ipynb#W2sZmlsZQ%3D%3D?line=14'>15</a>\u001b[0m \u001b[39mdef\u001b[39;00m \u001b[39m__add__\u001b[39m(\u001b[39mself\u001b[39m, other):\n\u001b[1;32m---> <a href='vscode-notebook-cell:/d%3A/pypy/lec7/lec7.ipynb#W2sZmlsZQ%3D%3D?line=15'>16</a>\u001b[0m     new_mosq_cloud \u001b[39m=\u001b[39m MosquitosCloud(\n\u001b[0;32m     <a href='vscode-notebook-cell:/d%3A/pypy/lec7/lec7.ipynb#W2sZmlsZQ%3D%3D?line=16'>17</a>\u001b[0m         \u001b[39mself\u001b[39;49m,\n\u001b[0;32m     <a href='vscode-notebook-cell:/d%3A/pypy/lec7/lec7.ipynb#W2sZmlsZQ%3D%3D?line=17'>18</a>\u001b[0m         damage_per_mosq \u001b[39m=\u001b[39;49m (\u001b[39mself\u001b[39;49m\u001b[39m.\u001b[39;49mdamage_per_mosq \u001b[39m+\u001b[39;49m other\u001b[39m.\u001b[39;49mdamage_per_mosq)\u001b[39m/\u001b[39;49m\u001b[39m2\u001b[39;49m,\n\u001b[0;32m     <a href='vscode-notebook-cell:/d%3A/pypy/lec7/lec7.ipynb#W2sZmlsZQ%3D%3D?line=18'>19</a>\u001b[0m         mosq_in_cloud \u001b[39m=\u001b[39;49m \u001b[39mself\u001b[39;49m\u001b[39m.\u001b[39;49mmosq_in_cloud \u001b[39m+\u001b[39;49m other\u001b[39m.\u001b[39;49mmosq_in_cloud,\n\u001b[0;32m     <a href='vscode-notebook-cell:/d%3A/pypy/lec7/lec7.ipynb#W2sZmlsZQ%3D%3D?line=19'>20</a>\u001b[0m     )\n",
      "\u001b[1;31mTypeError\u001b[0m: MosquitosCloud.__init__() got multiple values for argument 'damage_per_mosq'"
     ]
    }
   ],
   "source": [
    "mcloud3 = mcloud1 + mcloud2\n",
    "mcloud3.damage\n",
    "\n"
   ]
  }
 ],
 "metadata": {
  "kernelspec": {
   "display_name": "Python 3",
   "language": "python",
   "name": "python3"
  },
  "language_info": {
   "codemirror_mode": {
    "name": "ipython",
    "version": 3
   },
   "file_extension": ".py",
   "mimetype": "text/x-python",
   "name": "python",
   "nbconvert_exporter": "python",
   "pygments_lexer": "ipython3",
   "version": "3.11.5"
  },
  "orig_nbformat": 4
 },
 "nbformat": 4,
 "nbformat_minor": 2
}

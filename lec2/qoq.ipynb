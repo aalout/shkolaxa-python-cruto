{
 "cells": [
  {
   "cell_type": "code",
   "execution_count": 66,
   "metadata": {},
   "outputs": [],
   "source": [
    "class Human:\n",
    "    \n",
    "    iq: int = 100\n",
    "    \n",
    "    def __init__(self, weight: float | int = 80, height: float | int = 170, name: str | None = None):\n",
    "        self.weight = weight\n",
    "        self.height = height\n",
    "        self.name = name\n",
    "    \n",
    "    def walk(self, speed: float = 1.0):\n",
    "        print('Xozhu so speed:', speed)\n",
    "    def run(self):\n",
    "        if self.weight > 110:\n",
    "            print('Ya zhirniy')\n",
    "    def breathe(self):\n",
    "        print('Dishu')"
   ]
  },
  {
   "cell_type": "code",
   "execution_count": 67,
   "metadata": {},
   "outputs": [],
   "source": [
    "vova1 = Human()"
   ]
  },
  {
   "cell_type": "code",
   "execution_count": 68,
   "metadata": {},
   "outputs": [
    {
     "name": "stdout",
     "output_type": "stream",
     "text": [
      "Xozhu so speed: 1.0\n"
     ]
    }
   ],
   "source": [
    "vova1.walk()\n",
    "vova1.name = 'vova))'"
   ]
  },
  {
   "cell_type": "code",
   "execution_count": 69,
   "metadata": {},
   "outputs": [],
   "source": [
    "vova1.run()"
   ]
  },
  {
   "cell_type": "code",
   "execution_count": 70,
   "metadata": {},
   "outputs": [
    {
     "data": {
      "text/plain": [
       "100"
      ]
     },
     "execution_count": 70,
     "metadata": {},
     "output_type": "execute_result"
    }
   ],
   "source": [
    "vova2 = Human(weight = 220)\n",
    "vova2.iq"
   ]
  },
  {
   "cell_type": "code",
   "execution_count": 71,
   "metadata": {},
   "outputs": [
    {
     "name": "stdout",
     "output_type": "stream",
     "text": [
      "Ya zhirniy\n"
     ]
    }
   ],
   "source": [
    "vova2.run()"
   ]
  },
  {
   "cell_type": "code",
   "execution_count": 72,
   "metadata": {},
   "outputs": [],
   "source": [
    "class HumanWorker(Human):\n",
    "    \n",
    "    def work(self):\n",
    "        print('ya rabotau')\n",
    "        \n",
    "    def walk(self, speed = 0.5):\n",
    "        print('Tyazheloooo, ya idu so speed:', speed)\n",
    "        \n",
    "    def run(self):\n",
    "        print('Nelzya begit po skladu')"
   ]
  },
  {
   "cell_type": "code",
   "execution_count": 73,
   "metadata": {},
   "outputs": [],
   "source": [
    "vova5125929359 = HumanWorker(Human)"
   ]
  },
  {
   "cell_type": "code",
   "execution_count": 74,
   "metadata": {},
   "outputs": [
    {
     "name": "stdout",
     "output_type": "stream",
     "text": [
      "Nelzya begit po skladu\n"
     ]
    }
   ],
   "source": [
    "vova5125929359.run()"
   ]
  },
  {
   "cell_type": "code",
   "execution_count": 75,
   "metadata": {},
   "outputs": [],
   "source": [
    "class Heroes:\n",
    "    \n",
    "    def hit(self):\n",
    "        baseHP = 100\n",
    "        all_attributes = int(input())\n",
    "        agility = all_attributes/10 * 15\n",
    "        strength = all_attributes/8 * 15\n",
    "        intelligence = all_attributes/10 * 8\n",
    "        hit_ler = (agility + strength + intelligence) * 0.6\n",
    "        print('Tichka, s uronom:', hit_ler)\n",
    "        if hit_ler >= baseHP:\n",
    "            print('smert')\n",
    "            \n",
    "        \n",
    "    def white_flag(self):\n",
    "        print('gege')\n",
    "        "
   ]
  },
  {
   "cell_type": "code",
   "execution_count": 76,
   "metadata": {},
   "outputs": [],
   "source": [
    "class Radiant(Heroes):\n",
    "    \n",
    "    def fortification(self):\n",
    "        print('Vashi stroeniya ukrepleni')\n",
    "        \n",
    "    def hook(self):\n",
    "        print('pudge tebya prigolubit')"
   ]
  },
  {
   "cell_type": "code",
   "execution_count": 77,
   "metadata": {},
   "outputs": [],
   "source": [
    "class Dire(Heroes):\n",
    "    \n",
    "    def scan(self):\n",
    "        print('Vot ti gde')\n",
    "        \n",
    "    def shadowraze(self):\n",
    "        shadowraze_number = int(input('kakoy koyl?'))\n",
    "        if 0 > shadowraze_number >= 3 :\n",
    "            print('tut tolko 3 koyla')\n",
    "        elif shadowraze_number == 1:\n",
    "            print('silno')\n",
    "        elif shadowraze_number == 2:\n",
    "            print('eshe silnee')\n",
    "        elif shadowraze_number == 3:\n",
    "            print('pobeda!')\n",
    "            \n",
    "    def schetchik(self):\n",
    "        counter = int(input('chislo?'))\n",
    "        counter -= 7\n",
    "        print(counter)\n",
    "        "
   ]
  },
  {
   "cell_type": "code",
   "execution_count": 78,
   "metadata": {},
   "outputs": [],
   "source": [
    "shadowfiend = Dire()\n",
    "pudge = Radiant()"
   ]
  },
  {
   "cell_type": "code",
   "execution_count": 79,
   "metadata": {},
   "outputs": [
    {
     "name": "stdout",
     "output_type": "stream",
     "text": [
      "Tichka, s uronom: 25.05\n"
     ]
    }
   ],
   "source": [
    "pudge.hit()"
   ]
  },
  {
   "cell_type": "code",
   "execution_count": 80,
   "metadata": {},
   "outputs": [
    {
     "name": "stdout",
     "output_type": "stream",
     "text": [
      "Tichka, s uronom: 100.2\n",
      "smert\n"
     ]
    }
   ],
   "source": [
    "shadowfiend.hit()"
   ]
  },
  {
   "cell_type": "code",
   "execution_count": 81,
   "metadata": {},
   "outputs": [
    {
     "name": "stdout",
     "output_type": "stream",
     "text": [
      "pudge tebya prigolubit\n"
     ]
    }
   ],
   "source": [
    "pudge.hook()"
   ]
  },
  {
   "cell_type": "code",
   "execution_count": 82,
   "metadata": {},
   "outputs": [
    {
     "name": "stdout",
     "output_type": "stream",
     "text": [
      "silno\n"
     ]
    }
   ],
   "source": [
    "shadowfiend.shadowraze()"
   ]
  },
  {
   "cell_type": "code",
   "execution_count": 83,
   "metadata": {},
   "outputs": [
    {
     "name": "stdout",
     "output_type": "stream",
     "text": [
      "eshe silnee\n"
     ]
    }
   ],
   "source": [
    "shadowfiend.shadowraze()"
   ]
  },
  {
   "cell_type": "code",
   "execution_count": 84,
   "metadata": {},
   "outputs": [
    {
     "name": "stdout",
     "output_type": "stream",
     "text": [
      "pobeda!\n"
     ]
    }
   ],
   "source": [
    "shadowfiend.shadowraze()"
   ]
  },
  {
   "cell_type": "code",
   "execution_count": 85,
   "metadata": {},
   "outputs": [
    {
     "name": "stdout",
     "output_type": "stream",
     "text": [
      "gege\n"
     ]
    }
   ],
   "source": [
    "pudge.white_flag()"
   ]
  },
  {
   "cell_type": "code",
   "execution_count": 86,
   "metadata": {},
   "outputs": [
    {
     "name": "stdout",
     "output_type": "stream",
     "text": [
      "986\n"
     ]
    }
   ],
   "source": [
    "shadowfiend.schetchik()"
   ]
  },
  {
   "cell_type": "code",
   "execution_count": null,
   "metadata": {},
   "outputs": [],
   "source": []
  }
 ],
 "metadata": {
  "kernelspec": {
   "display_name": "Python 3",
   "language": "python",
   "name": "python3"
  },
  "language_info": {
   "codemirror_mode": {
    "name": "ipython",
    "version": 3
   },
   "file_extension": ".py",
   "mimetype": "text/x-python",
   "name": "python",
   "nbconvert_exporter": "python",
   "pygments_lexer": "ipython3",
   "version": "3.11.5"
  },
  "orig_nbformat": 4
 },
 "nbformat": 4,
 "nbformat_minor": 2
}

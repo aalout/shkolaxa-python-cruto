{
 "cells": [
  {
   "cell_type": "code",
   "execution_count": 14,
   "metadata": {},
   "outputs": [],
   "source": [
    "import re\n",
    "import string\n",
    "import numpy as np\n",
    "from sklearn.feature_extraction.text import CountVectorizer\n",
    "from sklearn.metrics.pairwise import cosine_similarity"
   ]
  },
  {
   "cell_type": "code",
   "execution_count": 15,
   "metadata": {},
   "outputs": [],
   "source": [
    "with open(\"./avidreaders.ru__matrenin-dvor.txt\", \"r\", encoding=\"utf-8\") as file:\n",
    "    content = file.read()\n",
    "with open(\"./fil_m-o-rubleve.txt\", \"r\", encoding=\"utf-8\") as file:\n",
    "    content1 = file.read()\n",
    "with open(\"./kak-nam-obustroit_-rossiu.txt\", \"r\", encoding=\"utf-8\") as file:\n",
    "    content2 = file.read()\n",
    "with open(\"./pir-pobediteley.txt\", \"r\", encoding=\"utf-8\") as file:\n",
    "    content3 = file.read()\n",
    "with open(\"./potemhiki-sveta-ne-ihut.txt\", \"r\", encoding=\"utf-8\") as file:\n",
    "    content4 = file.read()\n",
    "with open(\"./Solchenicyn_Aleksandr_Rossiya_v_obvale_Readli.Net_651035_original_9d92e.txt\", \"r\", encoding=\"utf-8\") as file:\n",
    "    content5 = file.read()"
   ]
  },
  {
   "cell_type": "code",
   "execution_count": 16,
   "metadata": {},
   "outputs": [],
   "source": [
    "def preprocess_text(text):\n",
    "    text = text.lower()\n",
    "    text = text.translate(str.maketrans('', '', string.punctuation))\n",
    "    text = re.sub(r'\\d+', '', text)\n",
    "    text = ' '.join(text.split())\n",
    "    return text\n"
   ]
  },
  {
   "cell_type": "code",
   "execution_count": 17,
   "metadata": {},
   "outputs": [],
   "source": [
    "def cosinus_similarity(text1, text2):\n",
    "    preprocessed_text1 = preprocess_text(text1)\n",
    "    preprocessed_text2 = preprocess_text(text2)\n",
    "    vectorizer = CountVectorizer().fit([preprocessed_text1, preprocessed_text2])\n",
    "    vectorized_text1 = vectorizer.transform([preprocessed_text1])\n",
    "    vectorized_text2 = vectorizer.transform([preprocessed_text2])\n",
    "    cosine_sim = cosine_similarity(vectorized_text1, vectorized_text2)\n",
    "    return cosine_sim[0][0]"
   ]
  },
  {
   "cell_type": "code",
   "execution_count": 18,
   "metadata": {},
   "outputs": [
    {
     "name": "stdout",
     "output_type": "stream",
     "text": [
      "Similarity between text 1 and text 2: 0.7188838060644006\n",
      "Similarity between text 1 and text 3: 0.8055516086035994\n",
      "Similarity between text 1 and text 4: 0.7057911130028688\n",
      "Similarity between text 1 and text 5: 0.771966652705126\n",
      "Similarity between text 1 and text 6: 0.8036264858374824\n"
     ]
    }
   ],
   "source": [
    "text1 = content\n",
    "text2 = content1\n",
    "text3 = content2\n",
    "text4 = content3\n",
    "text5 = content4\n",
    "text6 = content5\n",
    "\n",
    "s_1_2 = cosinus_similarity(text1, text2)\n",
    "s_1_3 = cosinus_similarity(text1, text3)\n",
    "s_1_4 = cosinus_similarity(text1, text4)\n",
    "s_1_5 = cosinus_similarity(text1, text5)\n",
    "s_1_6 = cosinus_similarity(text1, text6)\n",
    "\n",
    "print(\"Similarity between text 1 and text 2:\", s_1_2)\n",
    "print(\"Similarity between text 1 and text 3:\", s_1_3)\n",
    "print(\"Similarity between text 1 and text 4:\", s_1_4)\n",
    "print(\"Similarity between text 1 and text 5:\", s_1_5)\n",
    "print(\"Similarity between text 1 and text 6:\", s_1_6)"
   ]
  }
 ],
 "metadata": {
  "kernelspec": {
   "display_name": "Python 3",
   "language": "python",
   "name": "python3"
  },
  "language_info": {
   "codemirror_mode": {
    "name": "ipython",
    "version": 3
   },
   "file_extension": ".py",
   "mimetype": "text/x-python",
   "name": "python",
   "nbconvert_exporter": "python",
   "pygments_lexer": "ipython3",
   "version": "3.11.6"
  }
 },
 "nbformat": 4,
 "nbformat_minor": 2
}
